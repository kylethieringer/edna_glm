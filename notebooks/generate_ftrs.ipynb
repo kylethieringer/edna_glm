{
 "cells": [
  {
   "cell_type": "code",
   "execution_count": 12,
   "metadata": {},
   "outputs": [],
   "source": [
    "import h5py\n",
    "import numpy as np\n",
    "import os\n",
    "import glob\n",
    "import sys\n",
    "sys.path.append(os.path.dirname(os.path.realpath(''))+'/utils')\n",
    "from utils import features"
   ]
  },
  {
   "cell_type": "code",
   "execution_count": 9,
   "metadata": {},
   "outputs": [],
   "source": [
    "rawDir = r'/run/user/1000/gvfs/smb-share:server=tigress-cifs.princeton.edu,share=fileset-mmurthy/eDNA/behavior'\n",
    "saveDir = '/run/user/1000/gvfs/smb-share:server=cup.pni.princeton.edu,share=murthy/Kyle/data/edna/'\n",
    "DataDict = {'AD_control': 'experimental_sleapOE_AK_combined_to_analyze',\n",
    "             'vpoEN_Kir': 'experimental_sleapOE_VK_combined_to_analyze',\n",
    "             'LC31_Kir': 'experimental_sleapOE_fall21_LK',\n",
    "             'AD_control_BD': 'manipulated_summer22_AK_controls',\n",
    "             'blind': 'manipulated_summer22_AK_blind',\n",
    "             'deaf': 'manipulated_summer22_AK_deaf',\n",
    "             'blind_deaf': 'manipulated_summer22_AK_blindanddeaf'}\n"
   ]
  },
  {
   "cell_type": "code",
   "execution_count": 23,
   "outputs": [],
   "source": [
    "def main(item):\n",
    "    sp, rp = item\n",
    "    print(sp, rp)"
   ],
   "metadata": {
    "collapsed": false
   }
  },
  {
   "cell_type": "code",
   "execution_count": 24,
   "outputs": [
    {
     "name": "stdout",
     "output_type": "stream",
     "text": [
      "AD_control experimental_sleapOE_AK_combined_to_analyze\n",
      "vpoEN_Kir experimental_sleapOE_VK_combined_to_analyze\n",
      "LC31_Kir experimental_sleapOE_fall21_LK\n",
      "AD_control_BD manipulated_summer22_AK_controls\n",
      "blind manipulated_summer22_AK_blind\n",
      "deaf manipulated_summer22_AK_deaf\n",
      "blind_deaf manipulated_summer22_AK_blindanddeaf\n"
     ]
    }
   ],
   "source": [
    "for item in DataDict.items():\n",
    "    main(item)"
   ],
   "metadata": {
    "collapsed": false
   }
  },
  {
   "cell_type": "code",
   "execution_count": 18,
   "metadata": {},
   "outputs": [
    {
     "name": "stdout",
     "output_type": "stream",
     "text": [
      "starting with :  experimental_sleapOE_AK_combined_to_analyze\n",
      "will save data to :  AD_control\n",
      "Starting with: 220222_113337_18159203_rig3_1\n",
      "\n",
      "Raw Data Path: /run/user/1000/gvfs/smb-share:server=tigress-cifs.princeton.edu,share=fileset-mmurthy/eDNA/behavior/experimental_sleapOE_AK_combined_to_analyze/220222_113337_18159203_rig3_1\n",
      "\n",
      "will save features to /run/user/1000/gvfs/smb-share:server=cup.pni.princeton.edu,share=murthy/Kyle/data/edna/AD_control/220222_113337_18159203_rig3_1/220222_113337_18159203_rig3_1.h5\n",
      "features created\n",
      "\n",
      "saving to output file\n",
      "\n",
      "done\n",
      "\n",
      "\n",
      "will save song variables to /run/user/1000/gvfs/smb-share:server=cup.pni.princeton.edu,share=murthy/Kyle/data/edna/AD_control/220222_113337_18159203_rig3_1/220222_113337_18159203_rig3_1_song.h5\n",
      "done\n",
      "Starting with: 220225_142048_18159203_rig3_1\n",
      "\n",
      "Raw Data Path: /run/user/1000/gvfs/smb-share:server=tigress-cifs.princeton.edu,share=fileset-mmurthy/eDNA/behavior/experimental_sleapOE_AK_combined_to_analyze/220225_142048_18159203_rig3_1\n",
      "\n",
      "will save features to /run/user/1000/gvfs/smb-share:server=cup.pni.princeton.edu,share=murthy/Kyle/data/edna/AD_control/220225_142048_18159203_rig3_1/220225_142048_18159203_rig3_1.h5\n",
      "features created\n",
      "\n",
      "saving to output file\n",
      "\n",
      "done\n",
      "\n",
      "\n",
      "will save song variables to /run/user/1000/gvfs/smb-share:server=cup.pni.princeton.edu,share=murthy/Kyle/data/edna/AD_control/220225_142048_18159203_rig3_1/220225_142048_18159203_rig3_1_song.h5\n",
      "done\n",
      "Starting with: 220225_145349_18159206_rig1_2\n",
      "\n",
      "Raw Data Path: /run/user/1000/gvfs/smb-share:server=tigress-cifs.princeton.edu,share=fileset-mmurthy/eDNA/behavior/experimental_sleapOE_AK_combined_to_analyze/220225_145349_18159206_rig1_2\n",
      "\n",
      "will save features to /run/user/1000/gvfs/smb-share:server=cup.pni.princeton.edu,share=murthy/Kyle/data/edna/AD_control/220225_145349_18159206_rig1_2/220225_145349_18159206_rig1_2.h5\n",
      "features created\n",
      "\n",
      "saving to output file\n",
      "\n",
      "done\n",
      "\n",
      "\n",
      "will save song variables to /run/user/1000/gvfs/smb-share:server=cup.pni.princeton.edu,share=murthy/Kyle/data/edna/AD_control/220225_145349_18159206_rig1_2/220225_145349_18159206_rig1_2_song.h5\n",
      "done\n",
      "Starting with: 220225_145610_18159203_rig3_1\n",
      "\n",
      "Raw Data Path: /run/user/1000/gvfs/smb-share:server=tigress-cifs.princeton.edu,share=fileset-mmurthy/eDNA/behavior/experimental_sleapOE_AK_combined_to_analyze/220225_145610_18159203_rig3_1\n",
      "\n",
      "will save features to /run/user/1000/gvfs/smb-share:server=cup.pni.princeton.edu,share=murthy/Kyle/data/edna/AD_control/220225_145610_18159203_rig3_1/220225_145610_18159203_rig3_1.h5\n",
      "features created\n",
      "\n",
      "saving to output file\n",
      "\n",
      "done\n",
      "\n",
      "\n",
      "will save song variables to /run/user/1000/gvfs/smb-share:server=cup.pni.princeton.edu,share=murthy/Kyle/data/edna/AD_control/220225_145610_18159203_rig3_1/220225_145610_18159203_rig3_1_song.h5\n",
      "done\n",
      "Starting with: 220302_181713_18159211_rig1_1\n",
      "\n",
      "Raw Data Path: /run/user/1000/gvfs/smb-share:server=tigress-cifs.princeton.edu,share=fileset-mmurthy/eDNA/behavior/experimental_sleapOE_AK_combined_to_analyze/220302_181713_18159211_rig1_1\n",
      "\n",
      "will save features to /run/user/1000/gvfs/smb-share:server=cup.pni.princeton.edu,share=murthy/Kyle/data/edna/AD_control/220302_181713_18159211_rig1_1/220302_181713_18159211_rig1_1.h5\n",
      "features created\n",
      "\n",
      "saving to output file\n",
      "\n",
      "done\n",
      "\n",
      "\n",
      "will save song variables to /run/user/1000/gvfs/smb-share:server=cup.pni.princeton.edu,share=murthy/Kyle/data/edna/AD_control/220302_181713_18159211_rig1_1/220302_181713_18159211_rig1_1_song.h5\n",
      "done\n",
      "Starting with: 220222_121251_18159211_rig1_1\n",
      "\n",
      "Raw Data Path: /run/user/1000/gvfs/smb-share:server=tigress-cifs.princeton.edu,share=fileset-mmurthy/eDNA/behavior/experimental_sleapOE_AK_combined_to_analyze/220222_121251_18159211_rig1_1\n",
      "\n",
      "will save features to /run/user/1000/gvfs/smb-share:server=cup.pni.princeton.edu,share=murthy/Kyle/data/edna/AD_control/220222_121251_18159211_rig1_1/220222_121251_18159211_rig1_1.h5\n",
      "features created\n",
      "\n",
      "saving to output file\n",
      "\n",
      "done\n",
      "\n",
      "\n",
      "will save song variables to /run/user/1000/gvfs/smb-share:server=cup.pni.princeton.edu,share=murthy/Kyle/data/edna/AD_control/220222_121251_18159211_rig1_1/220222_121251_18159211_rig1_1_song.h5\n",
      "done\n",
      "Starting with: 220302_161033_18159112_rig3_2\n",
      "\n",
      "Raw Data Path: /run/user/1000/gvfs/smb-share:server=tigress-cifs.princeton.edu,share=fileset-mmurthy/eDNA/behavior/experimental_sleapOE_AK_combined_to_analyze/220302_161033_18159112_rig3_2\n",
      "\n",
      "will save features to /run/user/1000/gvfs/smb-share:server=cup.pni.princeton.edu,share=murthy/Kyle/data/edna/AD_control/220302_161033_18159112_rig3_2/220302_161033_18159112_rig3_2.h5\n",
      "features created\n",
      "\n",
      "saving to output file\n",
      "\n",
      "done\n",
      "\n",
      "\n",
      "will save song variables to /run/user/1000/gvfs/smb-share:server=cup.pni.princeton.edu,share=murthy/Kyle/data/edna/AD_control/220302_161033_18159112_rig3_2/220302_161033_18159112_rig3_2_song.h5\n",
      "done\n",
      "Starting with: 220222_104734_16276625_rig2_1\n",
      "\n",
      "Raw Data Path: /run/user/1000/gvfs/smb-share:server=tigress-cifs.princeton.edu,share=fileset-mmurthy/eDNA/behavior/experimental_sleapOE_AK_combined_to_analyze/220222_104734_16276625_rig2_1\n",
      "\n",
      "will save features to /run/user/1000/gvfs/smb-share:server=cup.pni.princeton.edu,share=murthy/Kyle/data/edna/AD_control/220222_104734_16276625_rig2_1/220222_104734_16276625_rig2_1.h5\n",
      "features created\n",
      "\n",
      "saving to output file\n",
      "\n"
     ]
    },
    {
     "ename": "KeyboardInterrupt",
     "evalue": "",
     "output_type": "error",
     "traceback": [
      "\u001B[0;31m---------------------------------------------------------------------------\u001B[0m",
      "\u001B[0;31mKeyboardInterrupt\u001B[0m                         Traceback (most recent call last)",
      "Cell \u001B[0;32mIn[18], line 16\u001B[0m\n\u001B[1;32m     13\u001B[0m song_path \u001B[38;5;241m=\u001B[39m os\u001B[38;5;241m.\u001B[39mpath\u001B[38;5;241m.\u001B[39mjoin(exptDir, \u001B[38;5;124m'\u001B[39m\u001B[38;5;124mdaq_segmentation_new.mat\u001B[39m\u001B[38;5;124m'\u001B[39m)\n\u001B[1;32m     14\u001B[0m save_songpath \u001B[38;5;241m=\u001B[39m os\u001B[38;5;241m.\u001B[39mpath\u001B[38;5;241m.\u001B[39mjoin(output_pathDir, \u001B[38;5;124mf\u001B[39m\u001B[38;5;124m\"\u001B[39m\u001B[38;5;132;01m{\u001B[39;00mfly\u001B[38;5;132;01m}\u001B[39;00m\u001B[38;5;124m_song.h5\u001B[39m\u001B[38;5;124m\"\u001B[39m)\n\u001B[0;32m---> 16\u001B[0m features\u001B[38;5;241m.\u001B[39mmake_expt_dataset(exptDir, output_path\u001B[38;5;241m=\u001B[39moutput_path, overwrite\u001B[38;5;241m=\u001B[39m\u001B[38;5;28;01mTrue\u001B[39;00m, smoothTrx\u001B[38;5;241m=\u001B[39m\u001B[38;5;28;01mFalse\u001B[39;00m)\n\u001B[1;32m     17\u001B[0m song_utils\u001B[38;5;241m.\u001B[39msave_songFtrs(song_path, save_songpath, overwrite\u001B[38;5;241m=\u001B[39m\u001B[38;5;28;01mTrue\u001B[39;00m)\n",
      "File \u001B[0;32m/run/user/1000/gvfs/smb-share:server=tigress-cifs.princeton.edu,share=fileset-mmurthy/Kyle/code/edna/features.py:649\u001B[0m, in \u001B[0;36mmake_expt_dataset\u001B[0;34m(expt_folder, output_path, overwrite, ctr_ind, fwd_ind, smoothTrx)\u001B[0m\n\u001B[1;32m    646\u001B[0m f\u001B[38;5;241m.\u001B[39mcreate_dataset(\u001B[38;5;124m\"\u001B[39m\u001B[38;5;124msample_at_frame\u001B[39m\u001B[38;5;124m\"\u001B[39m, data\u001B[38;5;241m=\u001B[39msample_at_frame, compression\u001B[38;5;241m=\u001B[39m\u001B[38;5;241m1\u001B[39m)\n\u001B[1;32m    647\u001B[0m f\u001B[38;5;241m.\u001B[39mcreate_dataset(\u001B[38;5;124m\"\u001B[39m\u001B[38;5;124mframe_at_sample\u001B[39m\u001B[38;5;124m\"\u001B[39m, data\u001B[38;5;241m=\u001B[39mframe_at_sample, compression\u001B[38;5;241m=\u001B[39m\u001B[38;5;241m1\u001B[39m)\n\u001B[0;32m--> 649\u001B[0m f\u001B[38;5;241m.\u001B[39mcreate_dataset(\u001B[38;5;124m\"\u001B[39m\u001B[38;5;124mtrxF\u001B[39m\u001B[38;5;124m\"\u001B[39m, data\u001B[38;5;241m=\u001B[39mtrxF, compression\u001B[38;5;241m=\u001B[39m\u001B[38;5;241m1\u001B[39m)\n\u001B[1;32m    650\u001B[0m f\u001B[38;5;241m.\u001B[39mcreate_dataset(\u001B[38;5;124m\"\u001B[39m\u001B[38;5;124mtrxM\u001B[39m\u001B[38;5;124m\"\u001B[39m, data\u001B[38;5;241m=\u001B[39mtrxM, compression\u001B[38;5;241m=\u001B[39m\u001B[38;5;241m1\u001B[39m)\n\u001B[1;32m    651\u001B[0m f\u001B[38;5;241m.\u001B[39mcreate_dataset(\u001B[38;5;124m\"\u001B[39m\u001B[38;5;124megoF\u001B[39m\u001B[38;5;124m\"\u001B[39m, data\u001B[38;5;241m=\u001B[39megoF, compression\u001B[38;5;241m=\u001B[39m\u001B[38;5;241m1\u001B[39m)\n",
      "File \u001B[0;32m~/miniconda3/envs/waggle/lib/python3.11/site-packages/h5py/_hl/group.py:161\u001B[0m, in \u001B[0;36mGroup.create_dataset\u001B[0;34m(self, name, shape, dtype, data, **kwds)\u001B[0m\n\u001B[1;32m    158\u001B[0m         parent_path, name \u001B[38;5;241m=\u001B[39m name\u001B[38;5;241m.\u001B[39mrsplit(\u001B[38;5;124mb\u001B[39m\u001B[38;5;124m'\u001B[39m\u001B[38;5;124m/\u001B[39m\u001B[38;5;124m'\u001B[39m, \u001B[38;5;241m1\u001B[39m)\n\u001B[1;32m    159\u001B[0m         group \u001B[38;5;241m=\u001B[39m \u001B[38;5;28mself\u001B[39m\u001B[38;5;241m.\u001B[39mrequire_group(parent_path)\n\u001B[0;32m--> 161\u001B[0m dsid \u001B[38;5;241m=\u001B[39m dataset\u001B[38;5;241m.\u001B[39mmake_new_dset(group, shape, dtype, data, name, \u001B[38;5;241m*\u001B[39m\u001B[38;5;241m*\u001B[39mkwds)\n\u001B[1;32m    162\u001B[0m dset \u001B[38;5;241m=\u001B[39m dataset\u001B[38;5;241m.\u001B[39mDataset(dsid)\n\u001B[1;32m    163\u001B[0m \u001B[38;5;28;01mreturn\u001B[39;00m dset\n",
      "File \u001B[0;32m~/miniconda3/envs/waggle/lib/python3.11/site-packages/h5py/_hl/dataset.py:159\u001B[0m, in \u001B[0;36mmake_new_dset\u001B[0;34m(parent, shape, dtype, data, name, chunks, compression, shuffle, fletcher32, maxshape, compression_opts, fillvalue, scaleoffset, track_times, external, track_order, dcpl, dapl, efile_prefix, virtual_prefix, allow_unknown_filter)\u001B[0m\n\u001B[1;32m    156\u001B[0m dset_id \u001B[38;5;241m=\u001B[39m h5d\u001B[38;5;241m.\u001B[39mcreate(parent\u001B[38;5;241m.\u001B[39mid, name, tid, sid, dcpl\u001B[38;5;241m=\u001B[39mdcpl, dapl\u001B[38;5;241m=\u001B[39mdapl)\n\u001B[1;32m    158\u001B[0m \u001B[38;5;28;01mif\u001B[39;00m (data \u001B[38;5;129;01mis\u001B[39;00m \u001B[38;5;129;01mnot\u001B[39;00m \u001B[38;5;28;01mNone\u001B[39;00m) \u001B[38;5;129;01mand\u001B[39;00m (\u001B[38;5;129;01mnot\u001B[39;00m \u001B[38;5;28misinstance\u001B[39m(data, Empty)):\n\u001B[0;32m--> 159\u001B[0m     dset_id\u001B[38;5;241m.\u001B[39mwrite(h5s\u001B[38;5;241m.\u001B[39mALL, h5s\u001B[38;5;241m.\u001B[39mALL, data)\n\u001B[1;32m    161\u001B[0m \u001B[38;5;28;01mreturn\u001B[39;00m dset_id\n",
      "\u001B[0;31mKeyboardInterrupt\u001B[0m: "
     ]
    }
   ],
   "source": [
    "for savepath, rawpath in DataDict.items():\n",
    "    print(\"starting with : \", rawpath)\n",
    "    print(\"will save data to : \", savepath)\n",
    "\n",
    "    exptList = glob.glob(os.path.join(rawDir, rawpath, '2*'))\n",
    "\n",
    "    for exptDir in exptList:\n",
    "        fly = os.path.basename(exptDir)\n",
    "        if fly.endswith('.txt'): continue\n",
    "        output_pathDir = os.path.join(saveDir, savepath, fly)\n",
    "        output_path = os.path.join(output_pathDir, f\"{fly}.h5\")\n",
    "\n",
    "        song_path = os.path.join(exptDir, 'daq_segmentation_new.mat')\n",
    "        save_songpath = os.path.join(output_pathDir, f\"{fly}_song.h5\")\n",
    "\n",
    "        features.make_expt_dataset(exptDir, output_path=output_path, overwrite=True, smoothTrx=False)\n",
    "        song_utils.save_songFtrs(song_path, save_songpath, overwrite=True)\n",
    "        # print(exptDir)\n",
    "        # print(output_pathDir)\n",
    "\n"
   ]
  },
  {
   "cell_type": "code",
   "execution_count": 14,
   "outputs": [
    {
     "data": {
      "text/plain": "['/run/user/1000/gvfs/smb-share:server=tigress-cifs.princeton.edu,share=fileset-mmurthy/eDNA/behavior/experimental_sleapOE_AK_combined_to_analyze/220222_113337_18159203_rig3_1',\n '/run/user/1000/gvfs/smb-share:server=tigress-cifs.princeton.edu,share=fileset-mmurthy/eDNA/behavior/experimental_sleapOE_AK_combined_to_analyze/220225_142048_18159203_rig3_1',\n '/run/user/1000/gvfs/smb-share:server=tigress-cifs.princeton.edu,share=fileset-mmurthy/eDNA/behavior/experimental_sleapOE_AK_combined_to_analyze/220225_145349_18159206_rig1_2',\n '/run/user/1000/gvfs/smb-share:server=tigress-cifs.princeton.edu,share=fileset-mmurthy/eDNA/behavior/experimental_sleapOE_AK_combined_to_analyze/220225_145610_18159203_rig3_1',\n '/run/user/1000/gvfs/smb-share:server=tigress-cifs.princeton.edu,share=fileset-mmurthy/eDNA/behavior/experimental_sleapOE_AK_combined_to_analyze/220302_181713_18159211_rig1_1',\n '/run/user/1000/gvfs/smb-share:server=tigress-cifs.princeton.edu,share=fileset-mmurthy/eDNA/behavior/experimental_sleapOE_AK_combined_to_analyze/220222_121251_18159211_rig1_1',\n '/run/user/1000/gvfs/smb-share:server=tigress-cifs.princeton.edu,share=fileset-mmurthy/eDNA/behavior/experimental_sleapOE_AK_combined_to_analyze/220302_161033_18159112_rig3_2',\n '/run/user/1000/gvfs/smb-share:server=tigress-cifs.princeton.edu,share=fileset-mmurthy/eDNA/behavior/experimental_sleapOE_AK_combined_to_analyze/220222_104734_16276625_rig2_1',\n '/run/user/1000/gvfs/smb-share:server=tigress-cifs.princeton.edu,share=fileset-mmurthy/eDNA/behavior/experimental_sleapOE_AK_combined_to_analyze/220302_164356_18159111_rig2_2',\n '/run/user/1000/gvfs/smb-share:server=tigress-cifs.princeton.edu,share=fileset-mmurthy/eDNA/behavior/experimental_sleapOE_AK_combined_to_analyze/220302_182120_18159203_rig3_1',\n '/run/user/1000/gvfs/smb-share:server=tigress-cifs.princeton.edu,share=fileset-mmurthy/eDNA/behavior/experimental_sleapOE_AK_combined_to_analyze/220222_145234_18159211_rig1_1',\n '/run/user/1000/gvfs/smb-share:server=tigress-cifs.princeton.edu,share=fileset-mmurthy/eDNA/behavior/experimental_sleapOE_AK_combined_to_analyze/220302_185912_18159111_rig2_2',\n '/run/user/1000/gvfs/smb-share:server=tigress-cifs.princeton.edu,share=fileset-mmurthy/eDNA/behavior/experimental_sleapOE_AK_combined_to_analyze/220302_164250_18159206_rig1_2',\n '/run/user/1000/gvfs/smb-share:server=tigress-cifs.princeton.edu,share=fileset-mmurthy/eDNA/behavior/experimental_sleapOE_AK_combined_to_analyze/220225_142048_18159112_rig3_2',\n '/run/user/1000/gvfs/smb-share:server=tigress-cifs.princeton.edu,share=fileset-mmurthy/eDNA/behavior/experimental_sleapOE_AK_combined_to_analyze/220225_141741_18159211_rig1_1',\n '/run/user/1000/gvfs/smb-share:server=tigress-cifs.princeton.edu,share=fileset-mmurthy/eDNA/behavior/experimental_sleapOE_AK_combined_to_analyze/220302_190040_18159203_rig3_1',\n '/run/user/1000/gvfs/smb-share:server=tigress-cifs.princeton.edu,share=fileset-mmurthy/eDNA/behavior/experimental_sleapOE_AK_combined_to_analyze/220302_185659_18159206_rig1_2',\n '/run/user/1000/gvfs/smb-share:server=tigress-cifs.princeton.edu,share=fileset-mmurthy/eDNA/behavior/experimental_sleapOE_AK_combined_to_analyze/220222_141132_18159203_rig3_1',\n '/run/user/1000/gvfs/smb-share:server=tigress-cifs.princeton.edu,share=fileset-mmurthy/eDNA/behavior/experimental_sleapOE_AK_combined_to_analyze/220302_164250_18159211_rig1_1',\n '/run/user/1000/gvfs/smb-share:server=tigress-cifs.princeton.edu,share=fileset-mmurthy/eDNA/behavior/experimental_sleapOE_AK_combined_to_analyze/220222_121609_18159112_rig3_2',\n '/run/user/1000/gvfs/smb-share:server=tigress-cifs.princeton.edu,share=fileset-mmurthy/eDNA/behavior/experimental_sleapOE_AK_combined_to_analyze/220302_164356_16276625_rig2_1',\n '/run/user/1000/gvfs/smb-share:server=tigress-cifs.princeton.edu,share=fileset-mmurthy/eDNA/behavior/experimental_sleapOE_AK_combined_to_analyze/220222_133148_16276625_rig2_1',\n '/run/user/1000/gvfs/smb-share:server=tigress-cifs.princeton.edu,share=fileset-mmurthy/eDNA/behavior/experimental_sleapOE_AK_combined_to_analyze/220302_174431_18159211_rig1_1',\n '/run/user/1000/gvfs/smb-share:server=tigress-cifs.princeton.edu,share=fileset-mmurthy/eDNA/behavior/experimental_sleapOE_AK_combined_to_analyze/220222_145342_18159111_rig2_2',\n '/run/user/1000/gvfs/smb-share:server=tigress-cifs.princeton.edu,share=fileset-mmurthy/eDNA/behavior/experimental_sleapOE_AK_combined_to_analyze/220225_134223_18159111_rig2_2',\n '/run/user/1000/gvfs/smb-share:server=tigress-cifs.princeton.edu,share=fileset-mmurthy/eDNA/behavior/experimental_sleapOE_AK_combined_to_analyze/220302_164518_18159112_rig3_2',\n '/run/user/1000/gvfs/smb-share:server=tigress-cifs.princeton.edu,share=fileset-mmurthy/eDNA/behavior/experimental_sleapOE_AK_combined_to_analyze/220222_141000_18159111_rig2_2',\n '/run/user/1000/gvfs/smb-share:server=tigress-cifs.princeton.edu,share=fileset-mmurthy/eDNA/behavior/experimental_sleapOE_AK_combined_to_analyze/220225_134056_18159206_rig1_2',\n '/run/user/1000/gvfs/smb-share:server=tigress-cifs.princeton.edu,share=fileset-mmurthy/eDNA/behavior/experimental_sleapOE_AK_combined_to_analyze/220302_174730_18159203_rig3_1',\n '/run/user/1000/gvfs/smb-share:server=tigress-cifs.princeton.edu,share=fileset-mmurthy/eDNA/behavior/experimental_sleapOE_AK_combined_to_analyze/220222_113337_18159112_rig3_2',\n '/run/user/1000/gvfs/smb-share:server=tigress-cifs.princeton.edu,share=fileset-mmurthy/eDNA/behavior/experimental_sleapOE_AK_combined_to_analyze/220302_160744_18159211_rig1_1',\n '/run/user/1000/gvfs/smb-share:server=tigress-cifs.princeton.edu,share=fileset-mmurthy/eDNA/behavior/experimental_sleapOE_AK_combined_to_analyze/220302_174626_18159111_rig2_2',\n '/run/user/1000/gvfs/smb-share:server=tigress-cifs.princeton.edu,share=fileset-mmurthy/eDNA/behavior/experimental_sleapOE_AK_combined_to_analyze/220302_182120_18159112_rig3_2',\n '/run/user/1000/gvfs/smb-share:server=tigress-cifs.princeton.edu,share=fileset-mmurthy/eDNA/behavior/experimental_sleapOE_AK_combined_to_analyze/220302_185659_18159211_rig1_1',\n '/run/user/1000/gvfs/smb-share:server=tigress-cifs.princeton.edu,share=fileset-mmurthy/eDNA/behavior/experimental_sleapOE_AK_combined_to_analyze/220225_145610_18159112_rig3_2',\n '/run/user/1000/gvfs/smb-share:server=tigress-cifs.princeton.edu,share=fileset-mmurthy/eDNA/behavior/experimental_sleapOE_AK_combined_to_analyze/220222_121857_16276625_rig2_1',\n '/run/user/1000/gvfs/smb-share:server=tigress-cifs.princeton.edu,share=fileset-mmurthy/eDNA/behavior/experimental_sleapOE_AK_combined_to_analyze/220222_125522_18159111_rig2_2',\n '/run/user/1000/gvfs/smb-share:server=tigress-cifs.princeton.edu,share=fileset-mmurthy/eDNA/behavior/experimental_sleapOE_AK_combined_to_analyze/220225_134223_16276625_rig2_1',\n '/run/user/1000/gvfs/smb-share:server=tigress-cifs.princeton.edu,share=fileset-mmurthy/eDNA/behavior/experimental_sleapOE_AK_combined_to_analyze/220222_133100_18159211_rig1_1',\n '/run/user/1000/gvfs/smb-share:server=tigress-cifs.princeton.edu,share=fileset-mmurthy/eDNA/behavior/experimental_sleapOE_AK_combined_to_analyze/220222_114321_16276625_rig2_1',\n '/run/user/1000/gvfs/smb-share:server=tigress-cifs.princeton.edu,share=fileset-mmurthy/eDNA/behavior/experimental_sleapOE_AK_combined_to_analyze/220222_132959_18159112_rig3_2',\n '/run/user/1000/gvfs/smb-share:server=tigress-cifs.princeton.edu,share=fileset-mmurthy/eDNA/behavior/experimental_sleapOE_AK_combined_to_analyze/220302_160924_18159111_rig2_2',\n '/run/user/1000/gvfs/smb-share:server=tigress-cifs.princeton.edu,share=fileset-mmurthy/eDNA/behavior/experimental_sleapOE_AK_combined_to_analyze/220222_121857_18159111_rig2_2',\n '/run/user/1000/gvfs/smb-share:server=tigress-cifs.princeton.edu,share=fileset-mmurthy/eDNA/behavior/experimental_sleapOE_AK_combined_to_analyze/220222_145342_16276625_rig2_1',\n '/run/user/1000/gvfs/smb-share:server=tigress-cifs.princeton.edu,share=fileset-mmurthy/eDNA/behavior/experimental_sleapOE_AK_combined_to_analyze/220222_125641_18159112_rig3_2',\n '/run/user/1000/gvfs/smb-share:server=tigress-cifs.princeton.edu,share=fileset-mmurthy/eDNA/behavior/experimental_sleapOE_AK_combined_to_analyze/220225_134056_18159211_rig1_1',\n '/run/user/1000/gvfs/smb-share:server=tigress-cifs.princeton.edu,share=fileset-mmurthy/eDNA/behavior/experimental_sleapOE_AK_combined_to_analyze/220222_133148_18159111_rig2_2',\n '/run/user/1000/gvfs/smb-share:server=tigress-cifs.princeton.edu,share=fileset-mmurthy/eDNA/behavior/experimental_sleapOE_AK_combined_to_analyze/220302_164518_18159203_rig3_1',\n '/run/user/1000/gvfs/smb-share:server=tigress-cifs.princeton.edu,share=fileset-mmurthy/eDNA/behavior/experimental_sleapOE_AK_combined_to_analyze/220222_113034_18159206_rig1_2',\n '/run/user/1000/gvfs/smb-share:server=tigress-cifs.princeton.edu,share=fileset-mmurthy/eDNA/behavior/experimental_sleapOE_AK_combined_to_analyze/220222_141132_18159112_rig3_2',\n '/run/user/1000/gvfs/smb-share:server=tigress-cifs.princeton.edu,share=fileset-mmurthy/eDNA/behavior/experimental_sleapOE_AK_combined_to_analyze/220222_140850_18159206_rig1_2',\n '/run/user/1000/gvfs/smb-share:server=tigress-cifs.princeton.edu,share=fileset-mmurthy/eDNA/behavior/experimental_sleapOE_AK_combined_to_analyze/220302_174431_18159206_rig1_2',\n '/run/user/1000/gvfs/smb-share:server=tigress-cifs.princeton.edu,share=fileset-mmurthy/eDNA/behavior/experimental_sleapOE_AK_combined_to_analyze/220222_114321_18159111_rig2_2',\n '/run/user/1000/gvfs/smb-share:server=tigress-cifs.princeton.edu,share=fileset-mmurthy/eDNA/behavior/experimental_sleapOE_AK_combined_to_analyze/220222_145419_18159203_rig3_1',\n '/run/user/1000/gvfs/smb-share:server=tigress-cifs.princeton.edu,share=fileset-mmurthy/eDNA/behavior/experimental_sleapOE_AK_combined_to_analyze/220302_160924_16276625_rig2_1',\n '/run/user/1000/gvfs/smb-share:server=tigress-cifs.princeton.edu,share=fileset-mmurthy/eDNA/behavior/experimental_sleapOE_AK_combined_to_analyze/220222_104530_18159211_rig1_1',\n '/run/user/1000/gvfs/smb-share:server=tigress-cifs.princeton.edu,share=fileset-mmurthy/eDNA/behavior/experimental_sleapOE_AK_combined_to_analyze/220222_113034_18159211_rig1_1',\n '/run/user/1000/gvfs/smb-share:server=tigress-cifs.princeton.edu,share=fileset-mmurthy/eDNA/behavior/experimental_sleapOE_AK_combined_to_analyze/220222_140850_18159211_rig1_1',\n '/run/user/1000/gvfs/smb-share:server=tigress-cifs.princeton.edu,share=fileset-mmurthy/eDNA/behavior/experimental_sleapOE_AK_combined_to_analyze/220222_125641_18159203_rig3_1',\n '/run/user/1000/gvfs/smb-share:server=tigress-cifs.princeton.edu,share=fileset-mmurthy/eDNA/behavior/experimental_sleapOE_AK_combined_to_analyze/220222_104734_18159111_rig2_2',\n '/run/user/1000/gvfs/smb-share:server=tigress-cifs.princeton.edu,share=fileset-mmurthy/eDNA/behavior/experimental_sleapOE_AK_combined_to_analyze/220222_145234_18159206_rig1_2']"
     },
     "execution_count": 14,
     "metadata": {},
     "output_type": "execute_result"
    }
   ],
   "source": [],
   "metadata": {
    "collapsed": false
   }
  },
  {
   "attachments": {},
   "cell_type": "markdown",
   "metadata": {},
   "source": [
    "## smoothing tracks"
   ]
  },
  {
   "cell_type": "code",
   "execution_count": 3,
   "metadata": {},
   "outputs": [],
   "source": [
    "exptPath = glob.glob(r'/run/user/1000/gvfs/smb-share:server=cup.pni.princeton.edu,share=murthy/Kyle/data/edna/control/**')"
   ]
  },
  {
   "cell_type": "code",
   "execution_count": 4,
   "metadata": {},
   "outputs": [
    {
     "name": "stdout",
     "output_type": "stream",
     "text": [
      "<KeysViewHDF5 ['boutStEn', 'expt_name', 'oneSong', 'origPulse', 'origSine', 'pulseStEn', 'pulseWC', 'sineStEn']>\n"
     ]
    }
   ],
   "source": [
    "for expt in exptPath:\n",
    "    fly = os.path.basename(expt)\n",
    "    output_path = os.path.join(expt, f\"{fly}_smoothed.h5\")\n",
    "    "
   ]
  },
  {
   "cell_type": "code",
   "execution_count": 6,
   "metadata": {},
   "outputs": [],
   "source": [
    "with h5py.File(r'/run/user/1000/gvfs/smb-share:server=cup.pni.princeton.edu,share=murthy/Kyle/data/edna/control/220809_162605_18159206_rig1_2/220809_162605_18159206_rig1_2_features.h5', 'r') as f:\n",
    "    mFV = np.copy(f['mFV'])"
   ]
  },
  {
   "cell_type": "code",
   "execution_count": 8,
   "metadata": {},
   "outputs": [
    {
     "name": "stdout",
     "output_type": "stream",
     "text": [
      "220806_153150_16276625_rig2_1\n",
      "/run/user/1000/gvfs/smb-share:server=tigress-cifs.princeton.edu,share=fileset-mmurthy/eDNA/behavior/manipulated_summer22_AK_controls/220806_153150_16276625_rig2_1\n",
      "220805_115559_16276625_rig2_1\n",
      "/run/user/1000/gvfs/smb-share:server=tigress-cifs.princeton.edu,share=fileset-mmurthy/eDNA/behavior/manipulated_summer22_AK_controls/220805_115559_16276625_rig2_1\n",
      "220809_134110_18159203_rig3_1\n",
      "/run/user/1000/gvfs/smb-share:server=tigress-cifs.princeton.edu,share=fileset-mmurthy/eDNA/behavior/manipulated_summer22_AK_controls/220809_134110_18159203_rig3_1\n",
      "220806_161523_18159206_rig1_2\n",
      "/run/user/1000/gvfs/smb-share:server=tigress-cifs.princeton.edu,share=fileset-mmurthy/eDNA/behavior/manipulated_summer22_AK_controls/220806_161523_18159206_rig1_2\n",
      "220805_115711_18159112_rig3_2\n",
      "/run/user/1000/gvfs/smb-share:server=tigress-cifs.princeton.edu,share=fileset-mmurthy/eDNA/behavior/manipulated_summer22_AK_controls/220805_115711_18159112_rig3_2\n",
      "220809_125351_18159112_rig3_2\n",
      "/run/user/1000/gvfs/smb-share:server=tigress-cifs.princeton.edu,share=fileset-mmurthy/eDNA/behavior/manipulated_summer22_AK_controls/220809_125351_18159112_rig3_2\n",
      "220809_154727_18159203_rig3_1\n",
      "/run/user/1000/gvfs/smb-share:server=tigress-cifs.princeton.edu,share=fileset-mmurthy/eDNA/behavior/manipulated_summer22_AK_controls/220809_154727_18159203_rig3_1\n",
      "220803_112924_18159111_rig2_2\n",
      "/run/user/1000/gvfs/smb-share:server=tigress-cifs.princeton.edu,share=fileset-mmurthy/eDNA/behavior/manipulated_summer22_AK_controls/220803_112924_18159111_rig2_2\n",
      "220806_153257_18159112_rig3_2\n",
      "/run/user/1000/gvfs/smb-share:server=tigress-cifs.princeton.edu,share=fileset-mmurthy/eDNA/behavior/manipulated_summer22_AK_controls/220806_153257_18159112_rig3_2\n",
      "220803_153208_16276625_rig2_1\n",
      "/run/user/1000/gvfs/smb-share:server=tigress-cifs.princeton.edu,share=fileset-mmurthy/eDNA/behavior/manipulated_summer22_AK_controls/220803_153208_16276625_rig2_1\n"
     ]
    }
   ],
   "source": [
    "for exptDir in exptPath:\n",
    "    if exptDir.endswith('txt'):continue\n",
    "    tracking = os.path.join(exptDir, \"000000.mp4.inference.cleaned.proofread.tracking.h5\")\n",
    "    with h5py.File(tracking, 'r') as f:\n",
    "        track_names = np.copy(f['track_names']).astype(str)\n",
    "    femaleLoc = np.where(track_names=='female')[0][0]\n",
    "    if femaleLoc!=0:\n",
    "        print(os.path.basename(exptDir))\n",
    "        print(exptDir)\n",
    "        fly = os.path.basename(exptDir)\n",
    "        if fly.endswith('.txt'): continue\n",
    "        output_pathDir = os.path.join(outputDir, fly)\n",
    "        # output_path = os.path.join(output_pathDir, f\"{fly}_features.h5\")\n",
    "        #\n",
    "        # song_path = os.path.join(exptDir, 'daq_segmentation_new.mat')\n",
    "        # save_songpath = os.path.join(output_pathDir, f\"{fly}_song.h5\")\n",
    "        #\n",
    "        # features.make_expt_dataset(exptDir, output_path=output_path, skip_audio=True, overwrite=True)\n",
    "        # utils.save_songFtrs(song_path, save_songpath, overwrite=True)\n"
   ]
  },
  {
   "cell_type": "code",
   "execution_count": 33,
   "metadata": {},
   "outputs": [
    {
     "data": {
      "text/plain": [
       "True"
      ]
     },
     "execution_count": 33,
     "metadata": {},
     "output_type": "execute_result"
    }
   ],
   "source": [
    "'female' in track_names"
   ]
  },
  {
   "cell_type": "code",
   "execution_count": 36,
   "metadata": {},
   "outputs": [],
   "source": [
    "femaleIDX = 0"
   ]
  },
  {
   "cell_type": "code",
   "execution_count": 37,
   "metadata": {},
   "outputs": [
    {
     "data": {
      "text/plain": [
       "1"
      ]
     },
     "execution_count": 37,
     "metadata": {},
     "output_type": "execute_result"
    }
   ],
   "source": [
    "1-femaleIDX"
   ]
  }
 ],
 "metadata": {
  "language_info": {
   "name": "python"
  },
  "orig_nbformat": 4
 },
 "nbformat": 4,
 "nbformat_minor": 2
}
